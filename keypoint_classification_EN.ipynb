{
 "cells": [
  {
   "cell_type": "code",
   "execution_count": 78,
   "metadata": {
    "id": "igMyGnjE9hEp"
   },
   "outputs": [],
   "source": [
    "import csv\n",
    "\n",
    "import numpy as np\n",
    "import tensorflow as tf\n",
    "from sklearn.model_selection import train_test_split\n",
    "\n",
    "RANDOM_SEED = 42"
   ]
  },
  {
   "cell_type": "markdown",
   "metadata": {
    "id": "t2HDvhIu9hEr"
   },
   "source": [
    "# Specify each path"
   ]
  },
  {
   "cell_type": "code",
   "execution_count": 79,
   "metadata": {
    "id": "9NvZP2Zn9hEy"
   },
   "outputs": [],
   "source": [
    "dataset = 'model/keypoint_classifier/keypoint.csv'\n",
    "model_save_path = 'model/keypoint_classifier/keypoint_classifier.hdf5'\n",
    "tflite_save_path = 'model/keypoint_classifier/keypoint_classifier.tflite'"
   ]
  },
  {
   "cell_type": "markdown",
   "metadata": {
    "id": "s5oMH7x19hEz"
   },
   "source": [
    "# Set number of classes"
   ]
  },
  {
   "cell_type": "code",
   "execution_count": 80,
   "metadata": {
    "id": "du4kodXL9hEz"
   },
   "outputs": [],
   "source": [
    "NUM_CLASSES = 6"
   ]
  },
  {
   "cell_type": "markdown",
   "metadata": {
    "id": "XjnL0uso9hEz"
   },
   "source": [
    "# Dataset reading"
   ]
  },
  {
   "cell_type": "code",
   "execution_count": 81,
   "metadata": {
    "id": "QT5ZqtEz9hE0"
   },
   "outputs": [],
   "source": [
    "X_dataset = np.loadtxt(dataset, delimiter=',', dtype='float32', usecols=list(range(1, (21 * 2) + 1)))"
   ]
  },
  {
   "cell_type": "code",
   "execution_count": 82,
   "metadata": {
    "id": "QmoKFsp49hE0"
   },
   "outputs": [],
   "source": [
    "y_dataset = np.loadtxt(dataset, delimiter=',', dtype='int32', usecols=(0))"
   ]
  },
  {
   "cell_type": "code",
   "execution_count": 83,
   "metadata": {
    "id": "xQU7JTZ_9hE0"
   },
   "outputs": [],
   "source": [
    "X_train, X_test, y_train, y_test = train_test_split(X_dataset, y_dataset, train_size=0.75, random_state=RANDOM_SEED)"
   ]
  },
  {
   "cell_type": "markdown",
   "metadata": {
    "id": "mxK_lETT9hE0"
   },
   "source": [
    "# Model building"
   ]
  },
  {
   "cell_type": "code",
   "execution_count": 84,
   "metadata": {
    "id": "vHBmUf1t9hE1"
   },
   "outputs": [],
   "source": [
    "model = tf.keras.models.Sequential([\n",
    "    tf.keras.layers.Input((21 * 2, )),\n",
    "    tf.keras.layers.Dropout(0.2),\n",
    "    tf.keras.layers.Dense(20, activation='relu'),\n",
    "    tf.keras.layers.Dropout(0.4),\n",
    "    tf.keras.layers.Dense(10, activation='relu'),\n",
    "    tf.keras.layers.Dense(NUM_CLASSES, activation='softmax')\n",
    "])"
   ]
  },
  {
   "cell_type": "code",
   "execution_count": 85,
   "metadata": {
    "colab": {
     "base_uri": "https://localhost:8080/"
    },
    "id": "ypqky9tc9hE1",
    "outputId": "5db082bb-30e3-4110-bf63-a1ee777ecd46"
   },
   "outputs": [
    {
     "name": "stdout",
     "output_type": "stream",
     "text": [
      "Model: \"sequential_4\"\n",
      "_________________________________________________________________\n",
      " Layer (type)                Output Shape              Param #   \n",
      "=================================================================\n",
      " dropout_8 (Dropout)         (None, 42)                0         \n",
      "                                                                 \n",
      " dense_12 (Dense)            (None, 20)                860       \n",
      "                                                                 \n",
      " dropout_9 (Dropout)         (None, 20)                0         \n",
      "                                                                 \n",
      " dense_13 (Dense)            (None, 10)                210       \n",
      "                                                                 \n",
      " dense_14 (Dense)            (None, 6)                 66        \n",
      "                                                                 \n",
      "=================================================================\n",
      "Total params: 1,136\n",
      "Trainable params: 1,136\n",
      "Non-trainable params: 0\n",
      "_________________________________________________________________\n"
     ]
    }
   ],
   "source": [
    "model.summary()  # tf.keras.utils.plot_model(model, show_shapes=True)"
   ]
  },
  {
   "cell_type": "code",
   "execution_count": 86,
   "metadata": {
    "id": "MbMjOflQ9hE1"
   },
   "outputs": [],
   "source": [
    "# Model checkpoint callback\n",
    "cp_callback = tf.keras.callbacks.ModelCheckpoint(\n",
    "    model_save_path, verbose=1, save_weights_only=False)\n",
    "# Callback for early stopping\n",
    "es_callback = tf.keras.callbacks.EarlyStopping(patience=20, verbose=1)"
   ]
  },
  {
   "cell_type": "code",
   "execution_count": 87,
   "metadata": {
    "id": "c3Dac0M_9hE2"
   },
   "outputs": [],
   "source": [
    "# Model compilation\n",
    "model.compile(\n",
    "    optimizer='adam',\n",
    "    loss='sparse_categorical_crossentropy',\n",
    "    metrics=['accuracy']\n",
    ")"
   ]
  },
  {
   "cell_type": "markdown",
   "metadata": {
    "id": "7XI0j1Iu9hE2"
   },
   "source": [
    "# Model training"
   ]
  },
  {
   "cell_type": "code",
   "execution_count": 88,
   "metadata": {
    "colab": {
     "base_uri": "https://localhost:8080/"
    },
    "id": "WirBl-JE9hE3",
    "outputId": "71b30ca2-8294-4d9d-8aa2-800d90d399de",
    "scrolled": true
   },
   "outputs": [
    {
     "name": "stdout",
     "output_type": "stream",
     "text": [
      "Epoch 1/1000\n",
      " 1/47 [..............................] - ETA: 9s - loss: 1.8323 - accuracy: 0.1641\n",
      "Epoch 1: saving model to model/keypoint_classifier\\keypoint_classifier.hdf5\n",
      "47/47 [==============================] - 0s 3ms/step - loss: 1.6784 - accuracy: 0.2745 - val_loss: 1.4372 - val_accuracy: 0.5936\n",
      "Epoch 2/1000\n",
      " 1/47 [..............................] - ETA: 0s - loss: 1.4754 - accuracy: 0.4141\n",
      "Epoch 2: saving model to model/keypoint_classifier\\keypoint_classifier.hdf5\n",
      "47/47 [==============================] - 0s 1ms/step - loss: 1.3712 - accuracy: 0.4821 - val_loss: 1.0993 - val_accuracy: 0.6368\n",
      "Epoch 3/1000\n",
      " 1/47 [..............................] - ETA: 0s - loss: 1.1972 - accuracy: 0.6016\n",
      "Epoch 3: saving model to model/keypoint_classifier\\keypoint_classifier.hdf5\n",
      "47/47 [==============================] - 0s 2ms/step - loss: 1.1615 - accuracy: 0.5627 - val_loss: 0.9183 - val_accuracy: 0.6393\n",
      "Epoch 4/1000\n",
      " 1/47 [..............................] - ETA: 0s - loss: 1.0972 - accuracy: 0.5781\n",
      "Epoch 4: saving model to model/keypoint_classifier\\keypoint_classifier.hdf5\n",
      "47/47 [==============================] - 0s 2ms/step - loss: 1.0294 - accuracy: 0.6135 - val_loss: 0.7933 - val_accuracy: 0.6962\n",
      "Epoch 5/1000\n",
      " 1/47 [..............................] - ETA: 0s - loss: 0.9763 - accuracy: 0.6641\n",
      "Epoch 5: saving model to model/keypoint_classifier\\keypoint_classifier.hdf5\n",
      "47/47 [==============================] - 0s 2ms/step - loss: 0.9381 - accuracy: 0.6589 - val_loss: 0.6932 - val_accuracy: 0.7626\n",
      "Epoch 6/1000\n",
      " 1/47 [..............................] - ETA: 0s - loss: 0.8718 - accuracy: 0.7188\n",
      "Epoch 6: saving model to model/keypoint_classifier\\keypoint_classifier.hdf5\n",
      "47/47 [==============================] - 0s 2ms/step - loss: 0.8663 - accuracy: 0.6974 - val_loss: 0.6144 - val_accuracy: 0.8189\n",
      "Epoch 7/1000\n",
      " 1/47 [..............................] - ETA: 0s - loss: 0.8994 - accuracy: 0.6953\n",
      "Epoch 7: saving model to model/keypoint_classifier\\keypoint_classifier.hdf5\n",
      "47/47 [==============================] - 0s 1ms/step - loss: 0.8335 - accuracy: 0.7068 - val_loss: 0.5654 - val_accuracy: 0.8471\n",
      "Epoch 8/1000\n",
      " 1/47 [..............................] - ETA: 0s - loss: 0.6844 - accuracy: 0.7656\n",
      "Epoch 8: saving model to model/keypoint_classifier\\keypoint_classifier.hdf5\n",
      "47/47 [==============================] - 0s 2ms/step - loss: 0.7785 - accuracy: 0.7277 - val_loss: 0.5162 - val_accuracy: 0.8702\n",
      "Epoch 9/1000\n",
      " 1/47 [..............................] - ETA: 0s - loss: 0.8256 - accuracy: 0.6953\n",
      "Epoch 9: saving model to model/keypoint_classifier\\keypoint_classifier.hdf5\n",
      "47/47 [==============================] - 0s 2ms/step - loss: 0.7406 - accuracy: 0.7437 - val_loss: 0.4799 - val_accuracy: 0.8763\n",
      "Epoch 10/1000\n",
      " 1/47 [..............................] - ETA: 0s - loss: 0.7704 - accuracy: 0.7109\n",
      "Epoch 10: saving model to model/keypoint_classifier\\keypoint_classifier.hdf5\n",
      "47/47 [==============================] - 0s 2ms/step - loss: 0.7212 - accuracy: 0.7458 - val_loss: 0.4461 - val_accuracy: 0.8883\n",
      "Epoch 11/1000\n",
      " 1/47 [..............................] - ETA: 0s - loss: 0.7330 - accuracy: 0.7500\n",
      "Epoch 11: saving model to model/keypoint_classifier\\keypoint_classifier.hdf5\n",
      "47/47 [==============================] - 0s 2ms/step - loss: 0.6824 - accuracy: 0.7620 - val_loss: 0.4248 - val_accuracy: 0.8853\n",
      "Epoch 12/1000\n",
      " 1/47 [..............................] - ETA: 0s - loss: 0.6833 - accuracy: 0.7578\n",
      "Epoch 12: saving model to model/keypoint_classifier\\keypoint_classifier.hdf5\n",
      "47/47 [==============================] - 0s 2ms/step - loss: 0.6786 - accuracy: 0.7620 - val_loss: 0.4024 - val_accuracy: 0.9004\n",
      "Epoch 13/1000\n",
      " 1/47 [..............................] - ETA: 0s - loss: 0.6362 - accuracy: 0.7891\n",
      "Epoch 13: saving model to model/keypoint_classifier\\keypoint_classifier.hdf5\n",
      "47/47 [==============================] - 0s 1ms/step - loss: 0.6512 - accuracy: 0.7700 - val_loss: 0.3919 - val_accuracy: 0.8883\n",
      "Epoch 14/1000\n",
      " 1/47 [..............................] - ETA: 0s - loss: 0.6690 - accuracy: 0.7578\n",
      "Epoch 14: saving model to model/keypoint_classifier\\keypoint_classifier.hdf5\n",
      "47/47 [==============================] - 0s 2ms/step - loss: 0.6515 - accuracy: 0.7666 - val_loss: 0.3739 - val_accuracy: 0.8994\n",
      "Epoch 15/1000\n",
      " 1/47 [..............................] - ETA: 0s - loss: 0.6609 - accuracy: 0.7969\n",
      "Epoch 15: saving model to model/keypoint_classifier\\keypoint_classifier.hdf5\n",
      "47/47 [==============================] - 0s 1ms/step - loss: 0.6274 - accuracy: 0.7752 - val_loss: 0.3628 - val_accuracy: 0.8974\n",
      "Epoch 16/1000\n",
      " 1/47 [..............................] - ETA: 0s - loss: 0.6222 - accuracy: 0.7578\n",
      "Epoch 16: saving model to model/keypoint_classifier\\keypoint_classifier.hdf5\n",
      "47/47 [==============================] - 0s 1ms/step - loss: 0.6074 - accuracy: 0.7802 - val_loss: 0.3430 - val_accuracy: 0.9009\n",
      "Epoch 17/1000\n",
      " 1/47 [..............................] - ETA: 0s - loss: 0.5583 - accuracy: 0.8047\n",
      "Epoch 17: saving model to model/keypoint_classifier\\keypoint_classifier.hdf5\n",
      "47/47 [==============================] - 0s 2ms/step - loss: 0.5944 - accuracy: 0.7888 - val_loss: 0.3298 - val_accuracy: 0.9085\n",
      "Epoch 18/1000\n",
      " 1/47 [..............................] - ETA: 0s - loss: 0.5687 - accuracy: 0.8047\n",
      "Epoch 18: saving model to model/keypoint_classifier\\keypoint_classifier.hdf5\n",
      "47/47 [==============================] - 0s 2ms/step - loss: 0.6008 - accuracy: 0.7806 - val_loss: 0.3246 - val_accuracy: 0.9115\n",
      "Epoch 19/1000\n",
      " 1/47 [..............................] - ETA: 0s - loss: 0.6762 - accuracy: 0.7422\n",
      "Epoch 19: saving model to model/keypoint_classifier\\keypoint_classifier.hdf5\n",
      "47/47 [==============================] - 0s 1ms/step - loss: 0.5771 - accuracy: 0.7888 - val_loss: 0.3151 - val_accuracy: 0.9105\n",
      "Epoch 20/1000\n",
      " 1/47 [..............................] - ETA: 0s - loss: 0.6110 - accuracy: 0.7891\n",
      "Epoch 20: saving model to model/keypoint_classifier\\keypoint_classifier.hdf5\n",
      "47/47 [==============================] - 0s 1ms/step - loss: 0.5734 - accuracy: 0.7942 - val_loss: 0.3068 - val_accuracy: 0.9095\n",
      "Epoch 21/1000\n",
      " 1/47 [..............................] - ETA: 0s - loss: 0.6365 - accuracy: 0.7812\n",
      "Epoch 21: saving model to model/keypoint_classifier\\keypoint_classifier.hdf5\n",
      "47/47 [==============================] - 0s 2ms/step - loss: 0.5698 - accuracy: 0.7932 - val_loss: 0.2960 - val_accuracy: 0.9155\n",
      "Epoch 22/1000\n",
      " 1/47 [..............................] - ETA: 0s - loss: 0.6162 - accuracy: 0.7734\n",
      "Epoch 22: saving model to model/keypoint_classifier\\keypoint_classifier.hdf5\n",
      "47/47 [==============================] - 0s 1ms/step - loss: 0.5641 - accuracy: 0.7933 - val_loss: 0.2935 - val_accuracy: 0.9120\n",
      "Epoch 23/1000\n",
      "42/47 [=========================>....] - ETA: 0s - loss: 0.5387 - accuracy: 0.8069\n",
      "Epoch 23: saving model to model/keypoint_classifier\\keypoint_classifier.hdf5\n",
      "47/47 [==============================] - 0s 2ms/step - loss: 0.5425 - accuracy: 0.8056 - val_loss: 0.2913 - val_accuracy: 0.9140\n",
      "Epoch 24/1000\n",
      " 1/47 [..............................] - ETA: 0s - loss: 0.5280 - accuracy: 0.7734\n",
      "Epoch 24: saving model to model/keypoint_classifier\\keypoint_classifier.hdf5\n",
      "47/47 [==============================] - 0s 1ms/step - loss: 0.5312 - accuracy: 0.8076 - val_loss: 0.2810 - val_accuracy: 0.9200\n",
      "Epoch 25/1000\n",
      " 1/47 [..............................] - ETA: 0s - loss: 0.5004 - accuracy: 0.8125\n",
      "Epoch 25: saving model to model/keypoint_classifier\\keypoint_classifier.hdf5\n",
      "47/47 [==============================] - 0s 1ms/step - loss: 0.5402 - accuracy: 0.8042 - val_loss: 0.2724 - val_accuracy: 0.9180\n",
      "Epoch 26/1000\n",
      " 1/47 [..............................] - ETA: 0s - loss: 0.5404 - accuracy: 0.7969\n",
      "Epoch 26: saving model to model/keypoint_classifier\\keypoint_classifier.hdf5\n",
      "47/47 [==============================] - 0s 2ms/step - loss: 0.5372 - accuracy: 0.8056 - val_loss: 0.2743 - val_accuracy: 0.9165\n",
      "Epoch 27/1000\n",
      " 1/47 [..............................] - ETA: 0s - loss: 0.5200 - accuracy: 0.8281\n",
      "Epoch 27: saving model to model/keypoint_classifier\\keypoint_classifier.hdf5\n",
      "47/47 [==============================] - 0s 2ms/step - loss: 0.5263 - accuracy: 0.8156 - val_loss: 0.2673 - val_accuracy: 0.9210\n",
      "Epoch 28/1000\n",
      " 1/47 [..............................] - ETA: 0s - loss: 0.5203 - accuracy: 0.8594\n",
      "Epoch 28: saving model to model/keypoint_classifier\\keypoint_classifier.hdf5\n",
      "47/47 [==============================] - 0s 2ms/step - loss: 0.5373 - accuracy: 0.8062 - val_loss: 0.2622 - val_accuracy: 0.9220\n",
      "Epoch 29/1000\n",
      " 1/47 [..............................] - ETA: 0s - loss: 0.5278 - accuracy: 0.7969\n",
      "Epoch 29: saving model to model/keypoint_classifier\\keypoint_classifier.hdf5\n",
      "47/47 [==============================] - 0s 2ms/step - loss: 0.5290 - accuracy: 0.8086 - val_loss: 0.2618 - val_accuracy: 0.9261\n",
      "Epoch 30/1000\n",
      " 1/47 [..............................] - ETA: 0s - loss: 0.4523 - accuracy: 0.8438\n",
      "Epoch 30: saving model to model/keypoint_classifier\\keypoint_classifier.hdf5\n",
      "47/47 [==============================] - 0s 1ms/step - loss: 0.5102 - accuracy: 0.8176 - val_loss: 0.2553 - val_accuracy: 0.9256\n",
      "Epoch 31/1000\n",
      " 1/47 [..............................] - ETA: 0s - loss: 0.4613 - accuracy: 0.8359\n",
      "Epoch 31: saving model to model/keypoint_classifier\\keypoint_classifier.hdf5\n",
      "47/47 [==============================] - 0s 1ms/step - loss: 0.5159 - accuracy: 0.8151 - val_loss: 0.2556 - val_accuracy: 0.9256\n",
      "Epoch 32/1000\n",
      " 1/47 [..............................] - ETA: 0s - loss: 0.5109 - accuracy: 0.8281\n",
      "Epoch 32: saving model to model/keypoint_classifier\\keypoint_classifier.hdf5\n",
      "47/47 [==============================] - 0s 1ms/step - loss: 0.5117 - accuracy: 0.8146 - val_loss: 0.2470 - val_accuracy: 0.9301\n",
      "Epoch 33/1000\n",
      " 1/47 [..............................] - ETA: 0s - loss: 0.5934 - accuracy: 0.7734\n",
      "Epoch 33: saving model to model/keypoint_classifier\\keypoint_classifier.hdf5\n",
      "47/47 [==============================] - 0s 2ms/step - loss: 0.5045 - accuracy: 0.8141 - val_loss: 0.2511 - val_accuracy: 0.9291\n",
      "Epoch 34/1000\n",
      " 1/47 [..............................] - ETA: 0s - loss: 0.6304 - accuracy: 0.7656\n",
      "Epoch 34: saving model to model/keypoint_classifier\\keypoint_classifier.hdf5\n",
      "47/47 [==============================] - 0s 2ms/step - loss: 0.5077 - accuracy: 0.8166 - val_loss: 0.2444 - val_accuracy: 0.9251\n",
      "Epoch 35/1000\n",
      " 1/47 [..............................] - ETA: 0s - loss: 0.5300 - accuracy: 0.7969\n",
      "Epoch 35: saving model to model/keypoint_classifier\\keypoint_classifier.hdf5\n",
      "47/47 [==============================] - 0s 1ms/step - loss: 0.5034 - accuracy: 0.8225 - val_loss: 0.2421 - val_accuracy: 0.9271\n",
      "Epoch 36/1000\n",
      " 1/47 [..............................] - ETA: 0s - loss: 0.6093 - accuracy: 0.7734\n",
      "Epoch 36: saving model to model/keypoint_classifier\\keypoint_classifier.hdf5\n",
      "47/47 [==============================] - 0s 2ms/step - loss: 0.4992 - accuracy: 0.8259 - val_loss: 0.2403 - val_accuracy: 0.9245\n",
      "Epoch 37/1000\n",
      " 1/47 [..............................] - ETA: 0s - loss: 0.4306 - accuracy: 0.8359\n",
      "Epoch 37: saving model to model/keypoint_classifier\\keypoint_classifier.hdf5\n",
      "47/47 [==============================] - 0s 2ms/step - loss: 0.4895 - accuracy: 0.8223 - val_loss: 0.2396 - val_accuracy: 0.9286\n",
      "Epoch 38/1000\n",
      " 1/47 [..............................] - ETA: 0s - loss: 0.4715 - accuracy: 0.8203\n",
      "Epoch 38: saving model to model/keypoint_classifier\\keypoint_classifier.hdf5\n",
      "47/47 [==============================] - 0s 1ms/step - loss: 0.4930 - accuracy: 0.8240 - val_loss: 0.2303 - val_accuracy: 0.9341\n",
      "Epoch 39/1000\n",
      " 1/47 [..............................] - ETA: 0s - loss: 0.5083 - accuracy: 0.7891\n",
      "Epoch 39: saving model to model/keypoint_classifier\\keypoint_classifier.hdf5\n",
      "47/47 [==============================] - 0s 1ms/step - loss: 0.4956 - accuracy: 0.8195 - val_loss: 0.2354 - val_accuracy: 0.9276\n",
      "Epoch 40/1000\n",
      " 1/47 [..............................] - ETA: 0s - loss: 0.4207 - accuracy: 0.8516\n",
      "Epoch 40: saving model to model/keypoint_classifier\\keypoint_classifier.hdf5\n",
      "47/47 [==============================] - 0s 2ms/step - loss: 0.4948 - accuracy: 0.8198 - val_loss: 0.2363 - val_accuracy: 0.9291\n",
      "Epoch 41/1000\n",
      " 1/47 [..............................] - ETA: 0s - loss: 0.3945 - accuracy: 0.8672\n",
      "Epoch 41: saving model to model/keypoint_classifier\\keypoint_classifier.hdf5\n",
      "47/47 [==============================] - 0s 2ms/step - loss: 0.4892 - accuracy: 0.8301 - val_loss: 0.2257 - val_accuracy: 0.9311\n",
      "Epoch 42/1000\n",
      " 1/47 [..............................] - ETA: 0s - loss: 0.5209 - accuracy: 0.8359\n",
      "Epoch 42: saving model to model/keypoint_classifier\\keypoint_classifier.hdf5\n",
      "47/47 [==============================] - 0s 1ms/step - loss: 0.4921 - accuracy: 0.8239 - val_loss: 0.2290 - val_accuracy: 0.9311\n",
      "Epoch 43/1000\n",
      " 1/47 [..............................] - ETA: 0s - loss: 0.4875 - accuracy: 0.8047\n",
      "Epoch 43: saving model to model/keypoint_classifier\\keypoint_classifier.hdf5\n",
      "47/47 [==============================] - 0s 1ms/step - loss: 0.4931 - accuracy: 0.8239 - val_loss: 0.2272 - val_accuracy: 0.9326\n",
      "Epoch 44/1000\n",
      " 1/47 [..............................] - ETA: 0s - loss: 0.4341 - accuracy: 0.7891\n",
      "Epoch 44: saving model to model/keypoint_classifier\\keypoint_classifier.hdf5\n",
      "47/47 [==============================] - 0s 2ms/step - loss: 0.4817 - accuracy: 0.8269 - val_loss: 0.2250 - val_accuracy: 0.9336\n",
      "Epoch 45/1000\n",
      " 1/47 [..............................] - ETA: 0s - loss: 0.4372 - accuracy: 0.8438\n",
      "Epoch 45: saving model to model/keypoint_classifier\\keypoint_classifier.hdf5\n",
      "47/47 [==============================] - 0s 2ms/step - loss: 0.4721 - accuracy: 0.8341 - val_loss: 0.2271 - val_accuracy: 0.9311\n",
      "Epoch 46/1000\n",
      " 1/47 [..............................] - ETA: 0s - loss: 0.3877 - accuracy: 0.9062\n",
      "Epoch 46: saving model to model/keypoint_classifier\\keypoint_classifier.hdf5\n",
      "47/47 [==============================] - 0s 2ms/step - loss: 0.4714 - accuracy: 0.8334 - val_loss: 0.2190 - val_accuracy: 0.9366\n",
      "Epoch 47/1000\n",
      " 1/47 [..............................] - ETA: 0s - loss: 0.4525 - accuracy: 0.8516\n",
      "Epoch 47: saving model to model/keypoint_classifier\\keypoint_classifier.hdf5\n",
      "47/47 [==============================] - 0s 2ms/step - loss: 0.4835 - accuracy: 0.8287 - val_loss: 0.2186 - val_accuracy: 0.9336\n",
      "Epoch 48/1000\n",
      " 1/47 [..............................] - ETA: 0s - loss: 0.4722 - accuracy: 0.8281\n",
      "Epoch 48: saving model to model/keypoint_classifier\\keypoint_classifier.hdf5\n",
      "47/47 [==============================] - 0s 2ms/step - loss: 0.4793 - accuracy: 0.8294 - val_loss: 0.2190 - val_accuracy: 0.9361\n",
      "Epoch 49/1000\n",
      " 1/47 [..............................] - ETA: 0s - loss: 0.4603 - accuracy: 0.8438\n",
      "Epoch 49: saving model to model/keypoint_classifier\\keypoint_classifier.hdf5\n",
      "47/47 [==============================] - 0s 2ms/step - loss: 0.4750 - accuracy: 0.8254 - val_loss: 0.2147 - val_accuracy: 0.9376\n",
      "Epoch 50/1000\n",
      " 1/47 [..............................] - ETA: 0s - loss: 0.4527 - accuracy: 0.8594\n",
      "Epoch 50: saving model to model/keypoint_classifier\\keypoint_classifier.hdf5\n",
      "47/47 [==============================] - 0s 2ms/step - loss: 0.4723 - accuracy: 0.8306 - val_loss: 0.2169 - val_accuracy: 0.9346\n",
      "Epoch 51/1000\n",
      " 1/47 [..............................] - ETA: 0s - loss: 0.3900 - accuracy: 0.8516\n",
      "Epoch 51: saving model to model/keypoint_classifier\\keypoint_classifier.hdf5\n",
      "47/47 [==============================] - 0s 2ms/step - loss: 0.4691 - accuracy: 0.8366 - val_loss: 0.2136 - val_accuracy: 0.9391\n",
      "Epoch 52/1000\n",
      " 1/47 [..............................] - ETA: 0s - loss: 0.5081 - accuracy: 0.8203\n",
      "Epoch 52: saving model to model/keypoint_classifier\\keypoint_classifier.hdf5\n",
      "47/47 [==============================] - 0s 2ms/step - loss: 0.4742 - accuracy: 0.8321 - val_loss: 0.2150 - val_accuracy: 0.9391\n",
      "Epoch 53/1000\n",
      " 1/47 [..............................] - ETA: 0s - loss: 0.4579 - accuracy: 0.8438\n",
      "Epoch 53: saving model to model/keypoint_classifier\\keypoint_classifier.hdf5\n",
      "47/47 [==============================] - 0s 1ms/step - loss: 0.4612 - accuracy: 0.8343 - val_loss: 0.2095 - val_accuracy: 0.9376\n",
      "Epoch 54/1000\n",
      " 1/47 [..............................] - ETA: 0s - loss: 0.4900 - accuracy: 0.8125\n",
      "Epoch 54: saving model to model/keypoint_classifier\\keypoint_classifier.hdf5\n",
      "47/47 [==============================] - 0s 1ms/step - loss: 0.4572 - accuracy: 0.8400 - val_loss: 0.2110 - val_accuracy: 0.9381\n",
      "Epoch 55/1000\n",
      " 1/47 [..............................] - ETA: 0s - loss: 0.5977 - accuracy: 0.8047\n",
      "Epoch 55: saving model to model/keypoint_classifier\\keypoint_classifier.hdf5\n",
      "47/47 [==============================] - 0s 1ms/step - loss: 0.4702 - accuracy: 0.8294 - val_loss: 0.2115 - val_accuracy: 0.9361\n",
      "Epoch 56/1000\n",
      " 1/47 [..............................] - ETA: 0s - loss: 0.4639 - accuracy: 0.8516\n",
      "Epoch 56: saving model to model/keypoint_classifier\\keypoint_classifier.hdf5\n",
      "47/47 [==============================] - 0s 2ms/step - loss: 0.4640 - accuracy: 0.8356 - val_loss: 0.2083 - val_accuracy: 0.9396\n",
      "Epoch 57/1000\n",
      "42/47 [=========================>....] - ETA: 0s - loss: 0.4558 - accuracy: 0.8352\n",
      "Epoch 57: saving model to model/keypoint_classifier\\keypoint_classifier.hdf5\n",
      "47/47 [==============================] - 0s 2ms/step - loss: 0.4544 - accuracy: 0.8368 - val_loss: 0.2040 - val_accuracy: 0.9371\n",
      "Epoch 58/1000\n",
      " 1/47 [..............................] - ETA: 0s - loss: 0.4213 - accuracy: 0.8516\n",
      "Epoch 58: saving model to model/keypoint_classifier\\keypoint_classifier.hdf5\n",
      "47/47 [==============================] - 0s 2ms/step - loss: 0.4713 - accuracy: 0.8317 - val_loss: 0.2074 - val_accuracy: 0.9401\n",
      "Epoch 59/1000\n",
      " 1/47 [..............................] - ETA: 0s - loss: 0.3581 - accuracy: 0.8672\n",
      "Epoch 59: saving model to model/keypoint_classifier\\keypoint_classifier.hdf5\n",
      "47/47 [==============================] - 0s 2ms/step - loss: 0.4558 - accuracy: 0.8410 - val_loss: 0.2076 - val_accuracy: 0.9381\n",
      "Epoch 60/1000\n",
      " 1/47 [..............................] - ETA: 0s - loss: 0.3897 - accuracy: 0.8594\n",
      "Epoch 60: saving model to model/keypoint_classifier\\keypoint_classifier.hdf5\n",
      "47/47 [==============================] - 0s 2ms/step - loss: 0.4635 - accuracy: 0.8369 - val_loss: 0.2111 - val_accuracy: 0.9386\n",
      "Epoch 61/1000\n",
      " 1/47 [..............................] - ETA: 0s - loss: 0.4920 - accuracy: 0.8359\n",
      "Epoch 61: saving model to model/keypoint_classifier\\keypoint_classifier.hdf5\n",
      "47/47 [==============================] - 0s 2ms/step - loss: 0.4500 - accuracy: 0.8358 - val_loss: 0.2034 - val_accuracy: 0.9386\n",
      "Epoch 62/1000\n",
      " 1/47 [..............................] - ETA: 0s - loss: 0.4149 - accuracy: 0.8828\n",
      "Epoch 62: saving model to model/keypoint_classifier\\keypoint_classifier.hdf5\n",
      "47/47 [==============================] - 0s 2ms/step - loss: 0.4586 - accuracy: 0.8373 - val_loss: 0.2069 - val_accuracy: 0.9386\n",
      "Epoch 63/1000\n",
      " 1/47 [..............................] - ETA: 0s - loss: 0.5535 - accuracy: 0.8047\n",
      "Epoch 63: saving model to model/keypoint_classifier\\keypoint_classifier.hdf5\n",
      "47/47 [==============================] - 0s 2ms/step - loss: 0.4569 - accuracy: 0.8411 - val_loss: 0.2019 - val_accuracy: 0.9401\n",
      "Epoch 64/1000\n",
      " 1/47 [..............................] - ETA: 0s - loss: 0.5673 - accuracy: 0.8125\n",
      "Epoch 64: saving model to model/keypoint_classifier\\keypoint_classifier.hdf5\n",
      "47/47 [==============================] - 0s 2ms/step - loss: 0.4536 - accuracy: 0.8341 - val_loss: 0.1992 - val_accuracy: 0.9427\n",
      "Epoch 65/1000\n",
      " 1/47 [..............................] - ETA: 0s - loss: 0.5603 - accuracy: 0.8438\n",
      "Epoch 65: saving model to model/keypoint_classifier\\keypoint_classifier.hdf5\n",
      "47/47 [==============================] - 0s 1ms/step - loss: 0.4601 - accuracy: 0.8359 - val_loss: 0.2021 - val_accuracy: 0.9401\n",
      "Epoch 66/1000\n",
      " 1/47 [..............................] - ETA: 0s - loss: 0.3468 - accuracy: 0.8750\n",
      "Epoch 66: saving model to model/keypoint_classifier\\keypoint_classifier.hdf5\n",
      "47/47 [==============================] - 0s 2ms/step - loss: 0.4541 - accuracy: 0.8396 - val_loss: 0.1986 - val_accuracy: 0.9422\n",
      "Epoch 67/1000\n",
      " 1/47 [..............................] - ETA: 0s - loss: 0.3702 - accuracy: 0.8828\n",
      "Epoch 67: saving model to model/keypoint_classifier\\keypoint_classifier.hdf5\n",
      "47/47 [==============================] - 0s 2ms/step - loss: 0.4499 - accuracy: 0.8403 - val_loss: 0.1994 - val_accuracy: 0.9406\n",
      "Epoch 68/1000\n",
      " 1/47 [..............................] - ETA: 0s - loss: 0.2983 - accuracy: 0.9062\n",
      "Epoch 68: saving model to model/keypoint_classifier\\keypoint_classifier.hdf5\n",
      "47/47 [==============================] - 0s 2ms/step - loss: 0.4590 - accuracy: 0.8361 - val_loss: 0.2002 - val_accuracy: 0.9401\n",
      "Epoch 69/1000\n",
      " 1/47 [..............................] - ETA: 0s - loss: 0.5368 - accuracy: 0.7969\n",
      "Epoch 69: saving model to model/keypoint_classifier\\keypoint_classifier.hdf5\n",
      "47/47 [==============================] - 0s 2ms/step - loss: 0.4394 - accuracy: 0.8400 - val_loss: 0.1961 - val_accuracy: 0.9442\n",
      "Epoch 70/1000\n",
      " 1/47 [..............................] - ETA: 0s - loss: 0.5026 - accuracy: 0.8438\n",
      "Epoch 70: saving model to model/keypoint_classifier\\keypoint_classifier.hdf5\n",
      "47/47 [==============================] - 0s 2ms/step - loss: 0.4510 - accuracy: 0.8431 - val_loss: 0.2007 - val_accuracy: 0.9411\n",
      "Epoch 71/1000\n",
      " 1/47 [..............................] - ETA: 0s - loss: 0.3334 - accuracy: 0.8516\n",
      "Epoch 71: saving model to model/keypoint_classifier\\keypoint_classifier.hdf5\n",
      "47/47 [==============================] - 0s 2ms/step - loss: 0.4422 - accuracy: 0.8391 - val_loss: 0.2001 - val_accuracy: 0.9416\n",
      "Epoch 72/1000\n",
      " 1/47 [..............................] - ETA: 0s - loss: 0.5437 - accuracy: 0.8125\n",
      "Epoch 72: saving model to model/keypoint_classifier\\keypoint_classifier.hdf5\n",
      "47/47 [==============================] - 0s 2ms/step - loss: 0.4480 - accuracy: 0.8383 - val_loss: 0.1916 - val_accuracy: 0.9437\n",
      "Epoch 73/1000\n",
      " 1/47 [..............................] - ETA: 0s - loss: 0.4283 - accuracy: 0.8516\n",
      "Epoch 73: saving model to model/keypoint_classifier\\keypoint_classifier.hdf5\n",
      "47/47 [==============================] - 0s 2ms/step - loss: 0.4540 - accuracy: 0.8420 - val_loss: 0.1898 - val_accuracy: 0.9437\n",
      "Epoch 74/1000\n",
      " 1/47 [..............................] - ETA: 0s - loss: 0.4230 - accuracy: 0.8438\n",
      "Epoch 74: saving model to model/keypoint_classifier\\keypoint_classifier.hdf5\n",
      "47/47 [==============================] - 0s 2ms/step - loss: 0.4574 - accuracy: 0.8388 - val_loss: 0.1939 - val_accuracy: 0.9427\n",
      "Epoch 75/1000\n",
      " 1/47 [..............................] - ETA: 0s - loss: 0.4326 - accuracy: 0.8516\n",
      "Epoch 75: saving model to model/keypoint_classifier\\keypoint_classifier.hdf5\n",
      "47/47 [==============================] - 0s 2ms/step - loss: 0.4491 - accuracy: 0.8393 - val_loss: 0.1930 - val_accuracy: 0.9396\n",
      "Epoch 76/1000\n",
      " 1/47 [..............................] - ETA: 0s - loss: 0.3560 - accuracy: 0.8750\n",
      "Epoch 76: saving model to model/keypoint_classifier\\keypoint_classifier.hdf5\n",
      "47/47 [==============================] - 0s 2ms/step - loss: 0.4405 - accuracy: 0.8445 - val_loss: 0.1931 - val_accuracy: 0.9396\n",
      "Epoch 77/1000\n",
      " 1/47 [..............................] - ETA: 0s - loss: 0.3839 - accuracy: 0.8438\n",
      "Epoch 77: saving model to model/keypoint_classifier\\keypoint_classifier.hdf5\n",
      "47/47 [==============================] - 0s 1ms/step - loss: 0.4359 - accuracy: 0.8445 - val_loss: 0.1945 - val_accuracy: 0.9406\n",
      "Epoch 78/1000\n",
      " 1/47 [..............................] - ETA: 0s - loss: 0.5425 - accuracy: 0.8438\n",
      "Epoch 78: saving model to model/keypoint_classifier\\keypoint_classifier.hdf5\n",
      "47/47 [==============================] - 0s 2ms/step - loss: 0.4476 - accuracy: 0.8428 - val_loss: 0.1955 - val_accuracy: 0.9406\n",
      "Epoch 79/1000\n",
      " 1/47 [..............................] - ETA: 0s - loss: 0.4982 - accuracy: 0.7969\n",
      "Epoch 79: saving model to model/keypoint_classifier\\keypoint_classifier.hdf5\n",
      "47/47 [==============================] - 0s 2ms/step - loss: 0.4440 - accuracy: 0.8408 - val_loss: 0.1878 - val_accuracy: 0.9452\n",
      "Epoch 80/1000\n",
      " 1/47 [..............................] - ETA: 0s - loss: 0.4702 - accuracy: 0.8359\n",
      "Epoch 80: saving model to model/keypoint_classifier\\keypoint_classifier.hdf5\n",
      "47/47 [==============================] - 0s 2ms/step - loss: 0.4443 - accuracy: 0.8413 - val_loss: 0.1908 - val_accuracy: 0.9416\n",
      "Epoch 81/1000\n",
      " 1/47 [..............................] - ETA: 0s - loss: 0.2853 - accuracy: 0.9062\n",
      "Epoch 81: saving model to model/keypoint_classifier\\keypoint_classifier.hdf5\n",
      "47/47 [==============================] - 0s 2ms/step - loss: 0.4426 - accuracy: 0.8379 - val_loss: 0.1882 - val_accuracy: 0.9422\n",
      "Epoch 82/1000\n",
      " 1/47 [..............................] - ETA: 0s - loss: 0.4293 - accuracy: 0.8359\n",
      "Epoch 82: saving model to model/keypoint_classifier\\keypoint_classifier.hdf5\n",
      "47/47 [==============================] - 0s 2ms/step - loss: 0.4250 - accuracy: 0.8524 - val_loss: 0.1855 - val_accuracy: 0.9422\n",
      "Epoch 83/1000\n",
      " 1/47 [..............................] - ETA: 0s - loss: 0.4738 - accuracy: 0.8438\n",
      "Epoch 83: saving model to model/keypoint_classifier\\keypoint_classifier.hdf5\n",
      "47/47 [==============================] - 0s 2ms/step - loss: 0.4378 - accuracy: 0.8428 - val_loss: 0.1878 - val_accuracy: 0.9432\n",
      "Epoch 84/1000\n",
      " 1/47 [..............................] - ETA: 0s - loss: 0.4565 - accuracy: 0.8516\n",
      "Epoch 84: saving model to model/keypoint_classifier\\keypoint_classifier.hdf5\n",
      "47/47 [==============================] - 0s 2ms/step - loss: 0.4283 - accuracy: 0.8453 - val_loss: 0.1831 - val_accuracy: 0.9422\n",
      "Epoch 85/1000\n",
      " 1/47 [..............................] - ETA: 0s - loss: 0.5008 - accuracy: 0.8516\n",
      "Epoch 85: saving model to model/keypoint_classifier\\keypoint_classifier.hdf5\n",
      "47/47 [==============================] - 0s 2ms/step - loss: 0.4549 - accuracy: 0.8401 - val_loss: 0.1904 - val_accuracy: 0.9432\n",
      "Epoch 86/1000\n",
      " 1/47 [..............................] - ETA: 0s - loss: 0.4533 - accuracy: 0.8203\n",
      "Epoch 86: saving model to model/keypoint_classifier\\keypoint_classifier.hdf5\n",
      "47/47 [==============================] - 0s 2ms/step - loss: 0.4433 - accuracy: 0.8450 - val_loss: 0.1885 - val_accuracy: 0.9447\n",
      "Epoch 87/1000\n",
      " 1/47 [..............................] - ETA: 0s - loss: 0.5248 - accuracy: 0.8438\n",
      "Epoch 87: saving model to model/keypoint_classifier\\keypoint_classifier.hdf5\n",
      "47/47 [==============================] - 0s 2ms/step - loss: 0.4427 - accuracy: 0.8455 - val_loss: 0.1854 - val_accuracy: 0.9442\n",
      "Epoch 88/1000\n",
      " 1/47 [..............................] - ETA: 0s - loss: 0.3881 - accuracy: 0.8594\n",
      "Epoch 88: saving model to model/keypoint_classifier\\keypoint_classifier.hdf5\n",
      "47/47 [==============================] - 0s 2ms/step - loss: 0.4078 - accuracy: 0.8541 - val_loss: 0.1831 - val_accuracy: 0.9452\n",
      "Epoch 89/1000\n",
      " 1/47 [..............................] - ETA: 0s - loss: 0.4392 - accuracy: 0.8359\n",
      "Epoch 89: saving model to model/keypoint_classifier\\keypoint_classifier.hdf5\n",
      "47/47 [==============================] - 0s 2ms/step - loss: 0.4403 - accuracy: 0.8478 - val_loss: 0.1811 - val_accuracy: 0.9462\n",
      "Epoch 90/1000\n",
      " 1/47 [..............................] - ETA: 0s - loss: 0.4435 - accuracy: 0.8281\n",
      "Epoch 90: saving model to model/keypoint_classifier\\keypoint_classifier.hdf5\n",
      "47/47 [==============================] - 0s 2ms/step - loss: 0.4274 - accuracy: 0.8489 - val_loss: 0.1811 - val_accuracy: 0.9457\n",
      "Epoch 91/1000\n",
      " 1/47 [..............................] - ETA: 0s - loss: 0.3558 - accuracy: 0.8516\n",
      "Epoch 91: saving model to model/keypoint_classifier\\keypoint_classifier.hdf5\n",
      "47/47 [==============================] - 0s 2ms/step - loss: 0.4470 - accuracy: 0.8458 - val_loss: 0.1858 - val_accuracy: 0.9447\n",
      "Epoch 92/1000\n",
      " 1/47 [..............................] - ETA: 0s - loss: 0.5239 - accuracy: 0.8359\n",
      "Epoch 92: saving model to model/keypoint_classifier\\keypoint_classifier.hdf5\n",
      "47/47 [==============================] - 0s 1ms/step - loss: 0.4389 - accuracy: 0.8458 - val_loss: 0.1823 - val_accuracy: 0.9447\n",
      "Epoch 93/1000\n",
      " 1/47 [..............................] - ETA: 0s - loss: 0.4058 - accuracy: 0.8594\n",
      "Epoch 93: saving model to model/keypoint_classifier\\keypoint_classifier.hdf5\n",
      "47/47 [==============================] - 0s 2ms/step - loss: 0.4419 - accuracy: 0.8437 - val_loss: 0.1881 - val_accuracy: 0.9462\n",
      "Epoch 94/1000\n",
      " 1/47 [..............................] - ETA: 0s - loss: 0.4608 - accuracy: 0.8359\n",
      "Epoch 94: saving model to model/keypoint_classifier\\keypoint_classifier.hdf5\n",
      "47/47 [==============================] - 0s 2ms/step - loss: 0.4474 - accuracy: 0.8430 - val_loss: 0.1857 - val_accuracy: 0.9467\n",
      "Epoch 95/1000\n",
      " 1/47 [..............................] - ETA: 0s - loss: 0.3595 - accuracy: 0.8516\n",
      "Epoch 95: saving model to model/keypoint_classifier\\keypoint_classifier.hdf5\n",
      "47/47 [==============================] - 0s 2ms/step - loss: 0.4324 - accuracy: 0.8482 - val_loss: 0.1814 - val_accuracy: 0.9462\n",
      "Epoch 96/1000\n",
      " 1/47 [..............................] - ETA: 0s - loss: 0.4349 - accuracy: 0.8438\n",
      "Epoch 96: saving model to model/keypoint_classifier\\keypoint_classifier.hdf5\n",
      "47/47 [==============================] - 0s 2ms/step - loss: 0.4365 - accuracy: 0.8421 - val_loss: 0.1765 - val_accuracy: 0.9482\n",
      "Epoch 97/1000\n",
      " 1/47 [..............................] - ETA: 0s - loss: 0.3585 - accuracy: 0.8906\n",
      "Epoch 97: saving model to model/keypoint_classifier\\keypoint_classifier.hdf5\n",
      "47/47 [==============================] - 0s 2ms/step - loss: 0.4133 - accuracy: 0.8532 - val_loss: 0.1776 - val_accuracy: 0.9462\n",
      "Epoch 98/1000\n",
      " 1/47 [..............................] - ETA: 0s - loss: 0.3934 - accuracy: 0.8672\n",
      "Epoch 98: saving model to model/keypoint_classifier\\keypoint_classifier.hdf5\n",
      "47/47 [==============================] - 0s 2ms/step - loss: 0.4253 - accuracy: 0.8512 - val_loss: 0.1774 - val_accuracy: 0.9477\n",
      "Epoch 99/1000\n",
      " 1/47 [..............................] - ETA: 0s - loss: 0.3773 - accuracy: 0.8828\n",
      "Epoch 99: saving model to model/keypoint_classifier\\keypoint_classifier.hdf5\n",
      "47/47 [==============================] - 0s 2ms/step - loss: 0.4484 - accuracy: 0.8421 - val_loss: 0.1815 - val_accuracy: 0.9462\n",
      "Epoch 100/1000\n",
      " 1/47 [..............................] - ETA: 0s - loss: 0.3198 - accuracy: 0.9219\n",
      "Epoch 100: saving model to model/keypoint_classifier\\keypoint_classifier.hdf5\n",
      "47/47 [==============================] - 0s 2ms/step - loss: 0.4397 - accuracy: 0.8426 - val_loss: 0.1821 - val_accuracy: 0.9482\n",
      "Epoch 101/1000\n",
      " 1/47 [..............................] - ETA: 0s - loss: 0.5469 - accuracy: 0.8281\n",
      "Epoch 101: saving model to model/keypoint_classifier\\keypoint_classifier.hdf5\n",
      "47/47 [==============================] - 0s 2ms/step - loss: 0.4319 - accuracy: 0.8502 - val_loss: 0.1797 - val_accuracy: 0.9487\n",
      "Epoch 102/1000\n",
      " 1/47 [..............................] - ETA: 0s - loss: 0.2594 - accuracy: 0.9062\n",
      "Epoch 102: saving model to model/keypoint_classifier\\keypoint_classifier.hdf5\n",
      "47/47 [==============================] - 0s 2ms/step - loss: 0.4310 - accuracy: 0.8458 - val_loss: 0.1813 - val_accuracy: 0.9467\n",
      "Epoch 103/1000\n",
      " 1/47 [..............................] - ETA: 0s - loss: 0.4016 - accuracy: 0.8594\n",
      "Epoch 103: saving model to model/keypoint_classifier\\keypoint_classifier.hdf5\n",
      "47/47 [==============================] - 0s 2ms/step - loss: 0.4302 - accuracy: 0.8458 - val_loss: 0.1787 - val_accuracy: 0.9487\n",
      "Epoch 104/1000\n",
      " 1/47 [..............................] - ETA: 0s - loss: 0.6359 - accuracy: 0.8203\n",
      "Epoch 104: saving model to model/keypoint_classifier\\keypoint_classifier.hdf5\n",
      "47/47 [==============================] - 0s 2ms/step - loss: 0.4198 - accuracy: 0.8517 - val_loss: 0.1812 - val_accuracy: 0.9457\n",
      "Epoch 105/1000\n",
      " 1/47 [..............................] - ETA: 0s - loss: 0.4216 - accuracy: 0.8281\n",
      "Epoch 105: saving model to model/keypoint_classifier\\keypoint_classifier.hdf5\n",
      "47/47 [==============================] - 0s 2ms/step - loss: 0.4219 - accuracy: 0.8463 - val_loss: 0.1805 - val_accuracy: 0.9462\n",
      "Epoch 106/1000\n",
      " 1/47 [..............................] - ETA: 0s - loss: 0.4398 - accuracy: 0.8594\n",
      "Epoch 106: saving model to model/keypoint_classifier\\keypoint_classifier.hdf5\n",
      "47/47 [==============================] - 0s 2ms/step - loss: 0.4194 - accuracy: 0.8505 - val_loss: 0.1765 - val_accuracy: 0.9482\n",
      "Epoch 107/1000\n",
      " 1/47 [..............................] - ETA: 0s - loss: 0.3574 - accuracy: 0.8750\n",
      "Epoch 107: saving model to model/keypoint_classifier\\keypoint_classifier.hdf5\n",
      "47/47 [==============================] - 0s 2ms/step - loss: 0.4275 - accuracy: 0.8497 - val_loss: 0.1783 - val_accuracy: 0.9477\n",
      "Epoch 108/1000\n",
      " 1/47 [..............................] - ETA: 0s - loss: 0.2728 - accuracy: 0.9297\n",
      "Epoch 108: saving model to model/keypoint_classifier\\keypoint_classifier.hdf5\n",
      "47/47 [==============================] - 0s 2ms/step - loss: 0.4078 - accuracy: 0.8582 - val_loss: 0.1768 - val_accuracy: 0.9472\n",
      "Epoch 109/1000\n",
      " 1/47 [..............................] - ETA: 0s - loss: 0.4308 - accuracy: 0.8438\n",
      "Epoch 109: saving model to model/keypoint_classifier\\keypoint_classifier.hdf5\n",
      "47/47 [==============================] - 0s 2ms/step - loss: 0.4408 - accuracy: 0.8423 - val_loss: 0.1784 - val_accuracy: 0.9482\n",
      "Epoch 110/1000\n",
      " 1/47 [..............................] - ETA: 0s - loss: 0.3831 - accuracy: 0.8906\n",
      "Epoch 110: saving model to model/keypoint_classifier\\keypoint_classifier.hdf5\n",
      "47/47 [==============================] - 0s 2ms/step - loss: 0.4389 - accuracy: 0.8391 - val_loss: 0.1777 - val_accuracy: 0.9467\n",
      "Epoch 111/1000\n",
      " 1/47 [..............................] - ETA: 0s - loss: 0.4527 - accuracy: 0.8203\n",
      "Epoch 111: saving model to model/keypoint_classifier\\keypoint_classifier.hdf5\n",
      "47/47 [==============================] - 0s 2ms/step - loss: 0.4179 - accuracy: 0.8534 - val_loss: 0.1784 - val_accuracy: 0.9462\n",
      "Epoch 112/1000\n",
      " 1/47 [..............................] - ETA: 0s - loss: 0.4167 - accuracy: 0.8672\n",
      "Epoch 112: saving model to model/keypoint_classifier\\keypoint_classifier.hdf5\n",
      "47/47 [==============================] - 0s 2ms/step - loss: 0.4203 - accuracy: 0.8566 - val_loss: 0.1784 - val_accuracy: 0.9472\n",
      "Epoch 113/1000\n",
      " 1/47 [..............................] - ETA: 0s - loss: 0.3918 - accuracy: 0.8359\n",
      "Epoch 113: saving model to model/keypoint_classifier\\keypoint_classifier.hdf5\n",
      "47/47 [==============================] - 0s 2ms/step - loss: 0.4198 - accuracy: 0.8483 - val_loss: 0.1753 - val_accuracy: 0.9462\n",
      "Epoch 114/1000\n",
      " 1/47 [..............................] - ETA: 0s - loss: 0.4420 - accuracy: 0.8516\n",
      "Epoch 114: saving model to model/keypoint_classifier\\keypoint_classifier.hdf5\n",
      "47/47 [==============================] - 0s 2ms/step - loss: 0.4342 - accuracy: 0.8447 - val_loss: 0.1741 - val_accuracy: 0.9492\n",
      "Epoch 115/1000\n",
      " 1/47 [..............................] - ETA: 0s - loss: 0.3457 - accuracy: 0.8516\n",
      "Epoch 115: saving model to model/keypoint_classifier\\keypoint_classifier.hdf5\n",
      "47/47 [==============================] - 0s 2ms/step - loss: 0.4366 - accuracy: 0.8470 - val_loss: 0.1773 - val_accuracy: 0.9437\n",
      "Epoch 116/1000\n",
      " 1/47 [..............................] - ETA: 0s - loss: 0.6812 - accuracy: 0.7812\n",
      "Epoch 116: saving model to model/keypoint_classifier\\keypoint_classifier.hdf5\n",
      "47/47 [==============================] - 0s 2ms/step - loss: 0.4213 - accuracy: 0.8500 - val_loss: 0.1770 - val_accuracy: 0.9457\n",
      "Epoch 117/1000\n",
      "47/47 [==============================] - ETA: 0s - loss: 0.4202 - accuracy: 0.8490\n",
      "Epoch 117: saving model to model/keypoint_classifier\\keypoint_classifier.hdf5\n",
      "47/47 [==============================] - 0s 2ms/step - loss: 0.4202 - accuracy: 0.8490 - val_loss: 0.1781 - val_accuracy: 0.9462\n",
      "Epoch 118/1000\n",
      " 1/47 [..............................] - ETA: 0s - loss: 0.3776 - accuracy: 0.8672\n",
      "Epoch 118: saving model to model/keypoint_classifier\\keypoint_classifier.hdf5\n",
      "47/47 [==============================] - 0s 2ms/step - loss: 0.4234 - accuracy: 0.8470 - val_loss: 0.1791 - val_accuracy: 0.9467\n",
      "Epoch 119/1000\n",
      " 1/47 [..............................] - ETA: 0s - loss: 0.3858 - accuracy: 0.8672\n",
      "Epoch 119: saving model to model/keypoint_classifier\\keypoint_classifier.hdf5\n",
      "47/47 [==============================] - 0s 2ms/step - loss: 0.4329 - accuracy: 0.8453 - val_loss: 0.1798 - val_accuracy: 0.9477\n",
      "Epoch 120/1000\n",
      " 1/47 [..............................] - ETA: 0s - loss: 0.3864 - accuracy: 0.8672\n",
      "Epoch 120: saving model to model/keypoint_classifier\\keypoint_classifier.hdf5\n",
      "47/47 [==============================] - 0s 2ms/step - loss: 0.4189 - accuracy: 0.8494 - val_loss: 0.1768 - val_accuracy: 0.9477\n",
      "Epoch 121/1000\n",
      " 1/47 [..............................] - ETA: 0s - loss: 0.4772 - accuracy: 0.8203\n",
      "Epoch 121: saving model to model/keypoint_classifier\\keypoint_classifier.hdf5\n",
      "47/47 [==============================] - 0s 2ms/step - loss: 0.4187 - accuracy: 0.8537 - val_loss: 0.1811 - val_accuracy: 0.9462\n",
      "Epoch 122/1000\n",
      " 1/47 [..............................] - ETA: 0s - loss: 0.4635 - accuracy: 0.8281\n",
      "Epoch 122: saving model to model/keypoint_classifier\\keypoint_classifier.hdf5\n",
      "47/47 [==============================] - 0s 2ms/step - loss: 0.4166 - accuracy: 0.8467 - val_loss: 0.1786 - val_accuracy: 0.9477\n",
      "Epoch 123/1000\n",
      " 1/47 [..............................] - ETA: 0s - loss: 0.4146 - accuracy: 0.8672\n",
      "Epoch 123: saving model to model/keypoint_classifier\\keypoint_classifier.hdf5\n",
      "47/47 [==============================] - 0s 1ms/step - loss: 0.4211 - accuracy: 0.8485 - val_loss: 0.1758 - val_accuracy: 0.9472\n",
      "Epoch 124/1000\n",
      " 1/47 [..............................] - ETA: 0s - loss: 0.4244 - accuracy: 0.8438\n",
      "Epoch 124: saving model to model/keypoint_classifier\\keypoint_classifier.hdf5\n",
      "47/47 [==============================] - 0s 2ms/step - loss: 0.4294 - accuracy: 0.8497 - val_loss: 0.1749 - val_accuracy: 0.9462\n",
      "Epoch 125/1000\n",
      " 1/47 [..............................] - ETA: 0s - loss: 0.4099 - accuracy: 0.8750\n",
      "Epoch 125: saving model to model/keypoint_classifier\\keypoint_classifier.hdf5\n",
      "47/47 [==============================] - 0s 2ms/step - loss: 0.4261 - accuracy: 0.8556 - val_loss: 0.1771 - val_accuracy: 0.9482\n",
      "Epoch 126/1000\n",
      " 1/47 [..............................] - ETA: 0s - loss: 0.3911 - accuracy: 0.8594\n",
      "Epoch 126: saving model to model/keypoint_classifier\\keypoint_classifier.hdf5\n",
      "47/47 [==============================] - 0s 2ms/step - loss: 0.4157 - accuracy: 0.8504 - val_loss: 0.1744 - val_accuracy: 0.9467\n",
      "Epoch 127/1000\n",
      " 1/47 [..............................] - ETA: 0s - loss: 0.3808 - accuracy: 0.8594\n",
      "Epoch 127: saving model to model/keypoint_classifier\\keypoint_classifier.hdf5\n",
      "47/47 [==============================] - 0s 2ms/step - loss: 0.4208 - accuracy: 0.8554 - val_loss: 0.1732 - val_accuracy: 0.9492\n",
      "Epoch 128/1000\n",
      " 1/47 [..............................] - ETA: 0s - loss: 0.4535 - accuracy: 0.8516\n",
      "Epoch 128: saving model to model/keypoint_classifier\\keypoint_classifier.hdf5\n",
      "47/47 [==============================] - 0s 2ms/step - loss: 0.4100 - accuracy: 0.8604 - val_loss: 0.1759 - val_accuracy: 0.9457\n",
      "Epoch 129/1000\n",
      " 1/47 [..............................] - ETA: 0s - loss: 0.3082 - accuracy: 0.8750\n",
      "Epoch 129: saving model to model/keypoint_classifier\\keypoint_classifier.hdf5\n",
      "47/47 [==============================] - 0s 2ms/step - loss: 0.4236 - accuracy: 0.8504 - val_loss: 0.1758 - val_accuracy: 0.9482\n",
      "Epoch 130/1000\n",
      " 1/47 [..............................] - ETA: 0s - loss: 0.3996 - accuracy: 0.8672\n",
      "Epoch 130: saving model to model/keypoint_classifier\\keypoint_classifier.hdf5\n",
      "47/47 [==============================] - 0s 2ms/step - loss: 0.4176 - accuracy: 0.8512 - val_loss: 0.1751 - val_accuracy: 0.9472\n",
      "Epoch 131/1000\n",
      " 1/47 [..............................] - ETA: 0s - loss: 0.4101 - accuracy: 0.8594\n",
      "Epoch 131: saving model to model/keypoint_classifier\\keypoint_classifier.hdf5\n",
      "47/47 [==============================] - 0s 2ms/step - loss: 0.4089 - accuracy: 0.8572 - val_loss: 0.1754 - val_accuracy: 0.9467\n",
      "Epoch 132/1000\n",
      " 1/47 [..............................] - ETA: 0s - loss: 0.3982 - accuracy: 0.8906\n",
      "Epoch 132: saving model to model/keypoint_classifier\\keypoint_classifier.hdf5\n",
      "47/47 [==============================] - 0s 2ms/step - loss: 0.4174 - accuracy: 0.8509 - val_loss: 0.1743 - val_accuracy: 0.9452\n",
      "Epoch 133/1000\n",
      " 1/47 [..............................] - ETA: 0s - loss: 0.4839 - accuracy: 0.8438\n",
      "Epoch 133: saving model to model/keypoint_classifier\\keypoint_classifier.hdf5\n",
      "47/47 [==============================] - 0s 2ms/step - loss: 0.3968 - accuracy: 0.8655 - val_loss: 0.1730 - val_accuracy: 0.9462\n",
      "Epoch 134/1000\n",
      " 1/47 [..............................] - ETA: 0s - loss: 0.3878 - accuracy: 0.8750\n",
      "Epoch 134: saving model to model/keypoint_classifier\\keypoint_classifier.hdf5\n",
      "47/47 [==============================] - 0s 2ms/step - loss: 0.4007 - accuracy: 0.8574 - val_loss: 0.1745 - val_accuracy: 0.9492\n",
      "Epoch 135/1000\n",
      " 1/47 [..............................] - ETA: 0s - loss: 0.4289 - accuracy: 0.8594\n",
      "Epoch 135: saving model to model/keypoint_classifier\\keypoint_classifier.hdf5\n",
      "47/47 [==============================] - 0s 2ms/step - loss: 0.4276 - accuracy: 0.8507 - val_loss: 0.1761 - val_accuracy: 0.9477\n",
      "Epoch 136/1000\n",
      " 1/47 [..............................] - ETA: 0s - loss: 0.3860 - accuracy: 0.8438\n",
      "Epoch 136: saving model to model/keypoint_classifier\\keypoint_classifier.hdf5\n",
      "47/47 [==============================] - 0s 2ms/step - loss: 0.4052 - accuracy: 0.8569 - val_loss: 0.1735 - val_accuracy: 0.9452\n",
      "Epoch 137/1000\n",
      " 1/47 [..............................] - ETA: 0s - loss: 0.2824 - accuracy: 0.8984\n",
      "Epoch 137: saving model to model/keypoint_classifier\\keypoint_classifier.hdf5\n",
      "47/47 [==============================] - 0s 2ms/step - loss: 0.4073 - accuracy: 0.8557 - val_loss: 0.1736 - val_accuracy: 0.9502\n",
      "Epoch 138/1000\n",
      " 1/47 [..............................] - ETA: 0s - loss: 0.3739 - accuracy: 0.8438\n",
      "Epoch 138: saving model to model/keypoint_classifier\\keypoint_classifier.hdf5\n",
      "47/47 [==============================] - 0s 2ms/step - loss: 0.4093 - accuracy: 0.8537 - val_loss: 0.1776 - val_accuracy: 0.9457\n",
      "Epoch 139/1000\n",
      " 1/47 [..............................] - ETA: 0s - loss: 0.3762 - accuracy: 0.8594\n",
      "Epoch 139: saving model to model/keypoint_classifier\\keypoint_classifier.hdf5\n",
      "47/47 [==============================] - 0s 2ms/step - loss: 0.4129 - accuracy: 0.8591 - val_loss: 0.1743 - val_accuracy: 0.9477\n",
      "Epoch 140/1000\n",
      " 1/47 [..............................] - ETA: 0s - loss: 0.3480 - accuracy: 0.8750\n",
      "Epoch 140: saving model to model/keypoint_classifier\\keypoint_classifier.hdf5\n",
      "47/47 [==============================] - 0s 2ms/step - loss: 0.4099 - accuracy: 0.8593 - val_loss: 0.1732 - val_accuracy: 0.9467\n",
      "Epoch 141/1000\n",
      " 1/47 [..............................] - ETA: 0s - loss: 0.3109 - accuracy: 0.8750\n",
      "Epoch 141: saving model to model/keypoint_classifier\\keypoint_classifier.hdf5\n",
      "47/47 [==============================] - 0s 2ms/step - loss: 0.4166 - accuracy: 0.8541 - val_loss: 0.1755 - val_accuracy: 0.9437\n",
      "Epoch 142/1000\n",
      " 1/47 [..............................] - ETA: 0s - loss: 0.3738 - accuracy: 0.8672\n",
      "Epoch 142: saving model to model/keypoint_classifier\\keypoint_classifier.hdf5\n",
      "47/47 [==============================] - 0s 2ms/step - loss: 0.4147 - accuracy: 0.8549 - val_loss: 0.1738 - val_accuracy: 0.9472\n",
      "Epoch 143/1000\n",
      " 1/47 [..............................] - ETA: 0s - loss: 0.4678 - accuracy: 0.8516\n",
      "Epoch 143: saving model to model/keypoint_classifier\\keypoint_classifier.hdf5\n",
      "47/47 [==============================] - 0s 2ms/step - loss: 0.4081 - accuracy: 0.8648 - val_loss: 0.1742 - val_accuracy: 0.9447\n",
      "Epoch 144/1000\n",
      " 1/47 [..............................] - ETA: 0s - loss: 0.3045 - accuracy: 0.9141\n",
      "Epoch 144: saving model to model/keypoint_classifier\\keypoint_classifier.hdf5\n",
      "47/47 [==============================] - 0s 2ms/step - loss: 0.3908 - accuracy: 0.8631 - val_loss: 0.1730 - val_accuracy: 0.9462\n",
      "Epoch 145/1000\n",
      " 1/47 [..............................] - ETA: 0s - loss: 0.4207 - accuracy: 0.8594\n",
      "Epoch 145: saving model to model/keypoint_classifier\\keypoint_classifier.hdf5\n",
      "47/47 [==============================] - 0s 2ms/step - loss: 0.4228 - accuracy: 0.8547 - val_loss: 0.1694 - val_accuracy: 0.9477\n",
      "Epoch 146/1000\n",
      " 1/47 [..............................] - ETA: 0s - loss: 0.3920 - accuracy: 0.8281\n",
      "Epoch 146: saving model to model/keypoint_classifier\\keypoint_classifier.hdf5\n",
      "47/47 [==============================] - 0s 1ms/step - loss: 0.4134 - accuracy: 0.8542 - val_loss: 0.1664 - val_accuracy: 0.9477\n",
      "Epoch 147/1000\n",
      " 1/47 [..............................] - ETA: 0s - loss: 0.5286 - accuracy: 0.8516\n",
      "Epoch 147: saving model to model/keypoint_classifier\\keypoint_classifier.hdf5\n",
      "47/47 [==============================] - 0s 2ms/step - loss: 0.4146 - accuracy: 0.8549 - val_loss: 0.1716 - val_accuracy: 0.9477\n",
      "Epoch 148/1000\n",
      " 1/47 [..............................] - ETA: 0s - loss: 0.3928 - accuracy: 0.8359\n",
      "Epoch 148: saving model to model/keypoint_classifier\\keypoint_classifier.hdf5\n",
      "47/47 [==============================] - 0s 2ms/step - loss: 0.4105 - accuracy: 0.8581 - val_loss: 0.1700 - val_accuracy: 0.9467\n",
      "Epoch 149/1000\n",
      " 1/47 [..............................] - ETA: 0s - loss: 0.4069 - accuracy: 0.8906\n",
      "Epoch 149: saving model to model/keypoint_classifier\\keypoint_classifier.hdf5\n",
      "47/47 [==============================] - 0s 2ms/step - loss: 0.4031 - accuracy: 0.8576 - val_loss: 0.1700 - val_accuracy: 0.9477\n",
      "Epoch 150/1000\n",
      " 1/47 [..............................] - ETA: 0s - loss: 0.4009 - accuracy: 0.8516\n",
      "Epoch 150: saving model to model/keypoint_classifier\\keypoint_classifier.hdf5\n",
      "47/47 [==============================] - 0s 2ms/step - loss: 0.4163 - accuracy: 0.8510 - val_loss: 0.1692 - val_accuracy: 0.9472\n",
      "Epoch 151/1000\n",
      " 1/47 [..............................] - ETA: 0s - loss: 0.4512 - accuracy: 0.8281\n",
      "Epoch 151: saving model to model/keypoint_classifier\\keypoint_classifier.hdf5\n",
      "47/47 [==============================] - 0s 2ms/step - loss: 0.3939 - accuracy: 0.8572 - val_loss: 0.1697 - val_accuracy: 0.9477\n",
      "Epoch 152/1000\n",
      " 1/47 [..............................] - ETA: 0s - loss: 0.3875 - accuracy: 0.8359\n",
      "Epoch 152: saving model to model/keypoint_classifier\\keypoint_classifier.hdf5\n",
      "47/47 [==============================] - 0s 2ms/step - loss: 0.3973 - accuracy: 0.8661 - val_loss: 0.1695 - val_accuracy: 0.9472\n",
      "Epoch 153/1000\n",
      " 1/47 [..............................] - ETA: 0s - loss: 0.5253 - accuracy: 0.8047\n",
      "Epoch 153: saving model to model/keypoint_classifier\\keypoint_classifier.hdf5\n",
      "47/47 [==============================] - 0s 2ms/step - loss: 0.3933 - accuracy: 0.8611 - val_loss: 0.1699 - val_accuracy: 0.9462\n",
      "Epoch 154/1000\n",
      " 1/47 [..............................] - ETA: 0s - loss: 0.4055 - accuracy: 0.8672\n",
      "Epoch 154: saving model to model/keypoint_classifier\\keypoint_classifier.hdf5\n",
      "47/47 [==============================] - 0s 2ms/step - loss: 0.4220 - accuracy: 0.8524 - val_loss: 0.1699 - val_accuracy: 0.9482\n",
      "Epoch 155/1000\n",
      " 1/47 [..............................] - ETA: 0s - loss: 0.4518 - accuracy: 0.8359\n",
      "Epoch 155: saving model to model/keypoint_classifier\\keypoint_classifier.hdf5\n",
      "47/47 [==============================] - 0s 2ms/step - loss: 0.3984 - accuracy: 0.8645 - val_loss: 0.1638 - val_accuracy: 0.9487\n",
      "Epoch 156/1000\n",
      " 1/47 [..............................] - ETA: 0s - loss: 0.3518 - accuracy: 0.8672\n",
      "Epoch 156: saving model to model/keypoint_classifier\\keypoint_classifier.hdf5\n",
      "47/47 [==============================] - 0s 1ms/step - loss: 0.4225 - accuracy: 0.8547 - val_loss: 0.1705 - val_accuracy: 0.9472\n",
      "Epoch 157/1000\n",
      " 1/47 [..............................] - ETA: 0s - loss: 0.3281 - accuracy: 0.8984\n",
      "Epoch 157: saving model to model/keypoint_classifier\\keypoint_classifier.hdf5\n",
      "47/47 [==============================] - 0s 2ms/step - loss: 0.4198 - accuracy: 0.8512 - val_loss: 0.1673 - val_accuracy: 0.9497\n",
      "Epoch 158/1000\n",
      " 1/47 [..............................] - ETA: 0s - loss: 0.4161 - accuracy: 0.8672\n",
      "Epoch 158: saving model to model/keypoint_classifier\\keypoint_classifier.hdf5\n",
      "47/47 [==============================] - 0s 1ms/step - loss: 0.4085 - accuracy: 0.8579 - val_loss: 0.1684 - val_accuracy: 0.9467\n",
      "Epoch 159/1000\n",
      " 1/47 [..............................] - ETA: 0s - loss: 0.3674 - accuracy: 0.8672\n",
      "Epoch 159: saving model to model/keypoint_classifier\\keypoint_classifier.hdf5\n",
      "47/47 [==============================] - 0s 2ms/step - loss: 0.4157 - accuracy: 0.8564 - val_loss: 0.1693 - val_accuracy: 0.9467\n",
      "Epoch 160/1000\n",
      " 1/47 [..............................] - ETA: 0s - loss: 0.4202 - accuracy: 0.8906\n",
      "Epoch 160: saving model to model/keypoint_classifier\\keypoint_classifier.hdf5\n",
      "47/47 [==============================] - 0s 2ms/step - loss: 0.4099 - accuracy: 0.8589 - val_loss: 0.1681 - val_accuracy: 0.9487\n",
      "Epoch 161/1000\n",
      " 1/47 [..............................] - ETA: 0s - loss: 0.4941 - accuracy: 0.8047\n",
      "Epoch 161: saving model to model/keypoint_classifier\\keypoint_classifier.hdf5\n",
      "47/47 [==============================] - 0s 2ms/step - loss: 0.4101 - accuracy: 0.8535 - val_loss: 0.1672 - val_accuracy: 0.9507\n",
      "Epoch 162/1000\n",
      " 1/47 [..............................] - ETA: 0s - loss: 0.4056 - accuracy: 0.8516\n",
      "Epoch 162: saving model to model/keypoint_classifier\\keypoint_classifier.hdf5\n",
      "47/47 [==============================] - 0s 2ms/step - loss: 0.4172 - accuracy: 0.8577 - val_loss: 0.1707 - val_accuracy: 0.9477\n",
      "Epoch 163/1000\n",
      " 1/47 [..............................] - ETA: 0s - loss: 0.3936 - accuracy: 0.8750\n",
      "Epoch 163: saving model to model/keypoint_classifier\\keypoint_classifier.hdf5\n",
      "47/47 [==============================] - 0s 2ms/step - loss: 0.4136 - accuracy: 0.8579 - val_loss: 0.1688 - val_accuracy: 0.9457\n",
      "Epoch 164/1000\n",
      "40/47 [========================>.....] - ETA: 0s - loss: 0.4043 - accuracy: 0.8555\n",
      "Epoch 164: saving model to model/keypoint_classifier\\keypoint_classifier.hdf5\n",
      "47/47 [==============================] - 0s 2ms/step - loss: 0.4035 - accuracy: 0.8582 - val_loss: 0.1706 - val_accuracy: 0.9462\n",
      "Epoch 165/1000\n",
      " 1/47 [..............................] - ETA: 0s - loss: 0.4344 - accuracy: 0.8594\n",
      "Epoch 165: saving model to model/keypoint_classifier\\keypoint_classifier.hdf5\n",
      "47/47 [==============================] - 0s 2ms/step - loss: 0.4116 - accuracy: 0.8549 - val_loss: 0.1662 - val_accuracy: 0.9487\n",
      "Epoch 166/1000\n",
      " 1/47 [..............................] - ETA: 0s - loss: 0.4068 - accuracy: 0.8594\n",
      "Epoch 166: saving model to model/keypoint_classifier\\keypoint_classifier.hdf5\n",
      "47/47 [==============================] - 0s 1ms/step - loss: 0.3946 - accuracy: 0.8593 - val_loss: 0.1662 - val_accuracy: 0.9517\n",
      "Epoch 167/1000\n",
      " 1/47 [..............................] - ETA: 0s - loss: 0.3594 - accuracy: 0.8984\n",
      "Epoch 167: saving model to model/keypoint_classifier\\keypoint_classifier.hdf5\n",
      "47/47 [==============================] - 0s 2ms/step - loss: 0.3959 - accuracy: 0.8638 - val_loss: 0.1723 - val_accuracy: 0.9472\n",
      "Epoch 168/1000\n",
      " 1/47 [..............................] - ETA: 0s - loss: 0.4427 - accuracy: 0.8203\n",
      "Epoch 168: saving model to model/keypoint_classifier\\keypoint_classifier.hdf5\n",
      "47/47 [==============================] - 0s 1ms/step - loss: 0.4086 - accuracy: 0.8559 - val_loss: 0.1692 - val_accuracy: 0.9487\n",
      "Epoch 169/1000\n",
      " 1/47 [..............................] - ETA: 0s - loss: 0.3563 - accuracy: 0.8438\n",
      "Epoch 169: saving model to model/keypoint_classifier\\keypoint_classifier.hdf5\n",
      "47/47 [==============================] - 0s 2ms/step - loss: 0.4109 - accuracy: 0.8557 - val_loss: 0.1708 - val_accuracy: 0.9482\n",
      "Epoch 170/1000\n",
      " 1/47 [..............................] - ETA: 0s - loss: 0.5542 - accuracy: 0.8047\n",
      "Epoch 170: saving model to model/keypoint_classifier\\keypoint_classifier.hdf5\n",
      "47/47 [==============================] - 0s 2ms/step - loss: 0.4008 - accuracy: 0.8608 - val_loss: 0.1664 - val_accuracy: 0.9477\n",
      "Epoch 171/1000\n",
      " 1/47 [..............................] - ETA: 0s - loss: 0.4254 - accuracy: 0.8516\n",
      "Epoch 171: saving model to model/keypoint_classifier\\keypoint_classifier.hdf5\n",
      "47/47 [==============================] - 0s 2ms/step - loss: 0.4006 - accuracy: 0.8641 - val_loss: 0.1704 - val_accuracy: 0.9472\n",
      "Epoch 172/1000\n",
      " 1/47 [..............................] - ETA: 0s - loss: 0.3959 - accuracy: 0.8281\n",
      "Epoch 172: saving model to model/keypoint_classifier\\keypoint_classifier.hdf5\n",
      "47/47 [==============================] - 0s 2ms/step - loss: 0.4025 - accuracy: 0.8646 - val_loss: 0.1654 - val_accuracy: 0.9487\n",
      "Epoch 173/1000\n",
      " 1/47 [..............................] - ETA: 0s - loss: 0.4394 - accuracy: 0.8672\n",
      "Epoch 173: saving model to model/keypoint_classifier\\keypoint_classifier.hdf5\n",
      "47/47 [==============================] - 0s 1ms/step - loss: 0.3925 - accuracy: 0.8638 - val_loss: 0.1681 - val_accuracy: 0.9487\n",
      "Epoch 174/1000\n",
      " 1/47 [..............................] - ETA: 0s - loss: 0.3579 - accuracy: 0.8750\n",
      "Epoch 174: saving model to model/keypoint_classifier\\keypoint_classifier.hdf5\n",
      "47/47 [==============================] - 0s 2ms/step - loss: 0.4183 - accuracy: 0.8556 - val_loss: 0.1695 - val_accuracy: 0.9472\n",
      "Epoch 175/1000\n",
      " 1/47 [..............................] - ETA: 0s - loss: 0.3938 - accuracy: 0.8984\n",
      "Epoch 175: saving model to model/keypoint_classifier\\keypoint_classifier.hdf5\n",
      "47/47 [==============================] - 0s 2ms/step - loss: 0.4052 - accuracy: 0.8591 - val_loss: 0.1708 - val_accuracy: 0.9467\n",
      "Epoch 175: early stopping\n"
     ]
    },
    {
     "data": {
      "text/plain": [
       "<keras.callbacks.History at 0x1c3205dc6d0>"
      ]
     },
     "execution_count": 88,
     "metadata": {},
     "output_type": "execute_result"
    }
   ],
   "source": [
    "model.fit(\n",
    "    X_train,\n",
    "    y_train,\n",
    "    epochs=1000,\n",
    "    batch_size=128,\n",
    "    validation_data=(X_test, y_test),\n",
    "    callbacks=[cp_callback, es_callback]\n",
    ")"
   ]
  },
  {
   "cell_type": "code",
   "execution_count": 89,
   "metadata": {
    "colab": {
     "base_uri": "https://localhost:8080/"
    },
    "id": "pxvb2Y299hE3",
    "outputId": "59eb3185-2e37-4b9e-bc9d-ab1b8ac29b7f"
   },
   "outputs": [
    {
     "name": "stdout",
     "output_type": "stream",
     "text": [
      "16/16 [==============================] - 0s 535us/step - loss: 0.1708 - accuracy: 0.9467\n"
     ]
    }
   ],
   "source": [
    "# Model evaluation\n",
    "val_loss, val_acc = model.evaluate(X_test, y_test, batch_size=128)"
   ]
  },
  {
   "cell_type": "code",
   "execution_count": 90,
   "metadata": {
    "id": "RBkmDeUW9hE4"
   },
   "outputs": [],
   "source": [
    "# Loading the saved model\n",
    "model = tf.keras.models.load_model(model_save_path)"
   ]
  },
  {
   "cell_type": "code",
   "execution_count": 91,
   "metadata": {
    "colab": {
     "base_uri": "https://localhost:8080/"
    },
    "id": "tFz9Tb0I9hE4",
    "outputId": "1c3b3528-54ae-4ee2-ab04-77429211cbef"
   },
   "outputs": [
    {
     "name": "stdout",
     "output_type": "stream",
     "text": [
      "1/1 [==============================] - 0s 43ms/step\n",
      "[9.5184314e-01 4.6702627e-02 2.3005799e-05 1.3179345e-03 4.9215282e-07\n",
      " 1.1269994e-04]\n",
      "0\n"
     ]
    }
   ],
   "source": [
    "# Inference test\n",
    "predict_result = model.predict(np.array([X_test[0]]))\n",
    "print(np.squeeze(predict_result))\n",
    "print(np.argmax(np.squeeze(predict_result)))"
   ]
  },
  {
   "cell_type": "markdown",
   "metadata": {
    "id": "S3U4yNWx9hE4"
   },
   "source": [
    "# Confusion matrix"
   ]
  },
  {
   "cell_type": "code",
   "execution_count": 92,
   "metadata": {
    "colab": {
     "base_uri": "https://localhost:8080/",
     "height": 582
    },
    "id": "AP1V6SCk9hE5",
    "outputId": "08e41a80-7a4a-4619-8125-ecc371368d19"
   },
   "outputs": [
    {
     "name": "stdout",
     "output_type": "stream",
     "text": [
      "63/63 [==============================] - 0s 437us/step\n"
     ]
    },
    {
     "data": {
      "image/png": "[encoded data removed]",
      "text/plain": [
       "<Figure size 700x600 with 2 Axes>"
      ]
     },
     "metadata": {},
     "output_type": "display_data"
    },
    {
     "name": "stdout",
     "output_type": "stream",
     "text": [
      "Classification Report\n",
      "              precision    recall  f1-score   support\n",
      "\n",
      "           0       0.96      0.92      0.94       405\n",
      "           1       0.99      0.86      0.92       473\n",
      "           2       0.94      0.99      0.96       389\n",
      "           3       0.91      1.00      0.95       435\n",
      "           4       0.94      1.00      0.97       173\n",
      "           5       0.93      0.99      0.96       113\n",
      "\n",
      "    accuracy                           0.95      1988\n",
      "   macro avg       0.95      0.96      0.95      1988\n",
      "weighted avg       0.95      0.95      0.95      1988\n",
      "\n"
     ]
    }
   ],
   "source": [
    "import pandas as pd\n",
    "import seaborn as sns\n",
    "import matplotlib.pyplot as plt\n",
    "from sklearn.metrics import confusion_matrix, classification_report\n",
    "\n",
    "def print_confusion_matrix(y_true, y_pred, report=True):\n",
    "    labels = sorted(list(set(y_true)))\n",
    "    cmx_data = confusion_matrix(y_true, y_pred, labels=labels)\n",
    "    \n",
    "    df_cmx = pd.DataFrame(cmx_data, index=labels, columns=labels)\n",
    " \n",
    "    fig, ax = plt.subplots(figsize=(7, 6))\n",
    "    sns.heatmap(df_cmx, annot=True, fmt='g' ,square=False)\n",
    "    ax.set_ylim(len(set(y_true)), 0)\n",
    "    plt.show()\n",
    "    \n",
    "    if report:\n",
    "        print('Classification Report')\n",
    "        print(classification_report(y_test, y_pred))\n",
    "\n",
    "Y_pred = model.predict(X_test)\n",
    "y_pred = np.argmax(Y_pred, axis=1)\n",
    "\n",
    "print_confusion_matrix(y_test, y_pred)"
   ]
  },
  {
   "cell_type": "markdown",
   "metadata": {
    "id": "FNP6aqzc9hE5"
   },
   "source": [
    "# Convert to model for Tensorflow-Lite"
   ]
  },
  {
   "cell_type": "code",
   "execution_count": 93,
   "metadata": {
    "id": "ODjnYyld9hE6"
   },
   "outputs": [],
   "source": [
    "# Save as a model dedicated to inference\n",
    "model.save(model_save_path, include_optimizer=False)"
   ]
  },
  {
   "cell_type": "code",
   "execution_count": 94,
   "metadata": {
    "colab": {
     "base_uri": "https://localhost:8080/"
    },
    "id": "zRfuK8Y59hE6",
    "outputId": "a4ca585c-b5d5-4244-8291-8674063209bb"
   },
   "outputs": [
    {
     "name": "stdout",
     "output_type": "stream",
     "text": [
      "INFO:tensorflow:Assets written to: C:\\Users\\aishe\\AppData\\Local\\Temp\\tmpp3tmjlpv\\assets\n"
     ]
    },
    {
     "name": "stderr",
     "output_type": "stream",
     "text": [
      "INFO:tensorflow:Assets written to: C:\\Users\\aishe\\AppData\\Local\\Temp\\tmpp3tmjlpv\\assets\n"
     ]
    },
    {
     "data": {
      "text/plain": [
       "6640"
      ]
     },
     "execution_count": 94,
     "metadata": {},
     "output_type": "execute_result"
    }
   ],
   "source": [
    "# Transform model (quantization)\n",
    "\n",
    "converter = tf.lite.TFLiteConverter.from_keras_model(model)\n",
    "converter.optimizations = [tf.lite.Optimize.DEFAULT]\n",
    "tflite_quantized_model = converter.convert()\n",
    "\n",
    "open(tflite_save_path, 'wb').write(tflite_quantized_model)"
   ]
  },
  {
   "cell_type": "markdown",
   "metadata": {
    "id": "CHBPBXdx9hE6"
   },
   "source": [
    "# Inference test"
   ]
  },
  {
   "cell_type": "code",
   "execution_count": 95,
   "metadata": {
    "id": "mGAzLocO9hE7"
   },
   "outputs": [],
   "source": [
    "interpreter = tf.lite.Interpreter(model_path=tflite_save_path)\n",
    "interpreter.allocate_tensors()"
   ]
  },
  {
   "cell_type": "code",
   "execution_count": 96,
   "metadata": {
    "id": "oQuDK8YS9hE7"
   },
   "outputs": [],
   "source": [
    "# Get I / O tensor\n",
    "input_details = interpreter.get_input_details()\n",
    "output_details = interpreter.get_output_details()"
   ]
  },
  {
   "cell_type": "code",
   "execution_count": 97,
   "metadata": {
    "id": "2_ixAf_l9hE7"
   },
   "outputs": [],
   "source": [
    "interpreter.set_tensor(input_details[0]['index'], np.array([X_test[0]]))"
   ]
  },
  {
   "cell_type": "code",
   "execution_count": 98,
   "metadata": {
    "colab": {
     "base_uri": "https://localhost:8080/"
    },
    "id": "s4FoAnuc9hE7",
    "outputId": "91f18257-8d8b-4ef3-c558-e9b5f94fabbf",
    "scrolled": true
   },
   "outputs": [
    {
     "name": "stdout",
     "output_type": "stream",
     "text": [
      "CPU times: total: 0 ns\n",
      "Wall time: 0 ns\n"
     ]
    }
   ],
   "source": [
    "%%time\n",
    "# Inference implementation\n",
    "interpreter.invoke()\n",
    "tflite_results = interpreter.get_tensor(output_details[0]['index'])"
   ]
  },
  {
   "cell_type": "code",
   "execution_count": 99,
   "metadata": {
    "colab": {
     "base_uri": "https://localhost:8080/"
    },
    "id": "vONjp19J9hE8",
    "outputId": "77205e24-fd00-42c4-f7b6-e06e527c2cba"
   },
   "outputs": [
    {
     "name": "stdout",
     "output_type": "stream",
     "text": [
      "[9.5184326e-01 4.6702590e-02 2.3005778e-05 1.3179308e-03 4.9215242e-07\n",
      " 1.1269974e-04]\n",
      "0\n"
     ]
    }
   ],
   "source": [
    "print(np.squeeze(tflite_results))\n",
    "print(np.argmax(np.squeeze(tflite_results)))"
   ]
  }
 ],
 "metadata": {
  "accelerator": "GPU",
  "colab": {
   "collapsed_sections": [],
   "name": "keypoint_classification_EN.ipynb",
   "provenance": [],
   "toc_visible": true
  },
  "kernelspec": {
   "display_name": "Python 3 (ipykernel)",
   "language": "python",
   "name": "python3"
  },
  "language_info": {
   "codemirror_mode": {
    "name": "ipython",
    "version": 3
   },
   "file_extension": ".py",
   "mimetype": "text/x-python",
   "name": "python",
   "nbconvert_exporter": "python",
   "pygments_lexer": "ipython3",
   "version": "3.10.0"
  }
 },
 "nbformat": 4,
 "nbformat_minor": 4
}
